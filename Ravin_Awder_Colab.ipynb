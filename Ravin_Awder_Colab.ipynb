{
  "nbformat": 4,
  "nbformat_minor": 0,
  "metadata": {
    "colab": {
      "provenance": [],
      "authorship_tag": "ABX9TyPK7qpNugT+DbpTsm3Zbtnq",
      "include_colab_link": true
    },
    "kernelspec": {
      "name": "python3",
      "display_name": "Python 3"
    },
    "language_info": {
      "name": "python"
    }
  },
  "cells": [
    {
      "cell_type": "markdown",
      "metadata": {
        "id": "view-in-github",
        "colab_type": "text"
      },
      "source": [
        "<a href=\"https://colab.research.google.com/github/ravindesigner/Ravin-Awder-False-Position/blob/main/Ravin_Awder_Colab.ipynb\" target=\"_parent\"><img src=\"https://colab.research.google.com/assets/colab-badge.svg\" alt=\"Open In Colab\"/></a>"
      ]
    },
    {
      "cell_type": "code",
      "execution_count": null,
      "metadata": {
        "colab": {
          "base_uri": "https://localhost:8080/"
        },
        "id": "DT7TMbTJ_1Hm",
        "outputId": "cf5370da-f37d-4625-9df3-794abecf9b61"
      },
      "outputs": [
        {
          "output_type": "stream",
          "name": "stdout",
          "text": [
            "Iteration 1: Approximate root = 1.75\n",
            "Iteration 2: Approximate root = 1.9473684210526316\n",
            "Iteration 3: Approximate root = 1.9893617021276597\n",
            "Iteration 4: Approximate root = 1.9978678038379531\n",
            "Iteration 5: Approximate root = 1.9995733788395904\n",
            "Iteration 6: Approximate root = 1.9999146684870721\n",
            "Iteration 7: Approximate root = 1.9999829334061507\n",
            "Iteration 8: Approximate root = 1.9999965866695792\n",
            "Iteration 9: Approximate root = 1.9999993173334498\n",
            "\n",
            "Final result:\n",
            "Approximate root: 1.9999998634666714\n"
          ]
        }
      ],
      "source": [
        "def false_position_method(func, a, b, tolerance=1e-6, max_iterations=11):\n",
        "    if func(a) * func(b) >= 0:\n",
        "        raise ValueError(\"The function values at the interval endpoints must have opposite signs.\")\n",
        "\n",
        "    iteration = 0\n",
        "    while iteration < max_iterations:\n",
        "        fa = func(a)\n",
        "        fb = func(b)\n",
        "\n",
        "        c = b - (fb * (b - a)) / (fb - fa)\n",
        "\n",
        "        if abs(func(c)) < tolerance:\n",
        "            break\n",
        "\n",
        "        if func(c) * fa < 0:\n",
        "            b = c\n",
        "        else:\n",
        "            a = c\n",
        "\n",
        "        print(f\"Iteration {iteration + 1}: Approximate root = {c}\")\n",
        "        iteration += 1\n",
        "\n",
        "    return c\n",
        "\n",
        "def f(x):\n",
        "    return x**2 - 4\n",
        "\n",
        "a = 1\n",
        "b = 3\n",
        "\n",
        "root = false_position_method(f, a, b, max_iterations=11)\n",
        "\n",
        "print(\"\\nFinal result:\")\n",
        "print(\"Approximate root:\", root)"
      ]
    }
  ]
}